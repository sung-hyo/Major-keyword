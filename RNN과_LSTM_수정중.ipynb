{
  "nbformat": 4,
  "nbformat_minor": 0,
  "metadata": {
    "colab": {
      "name": "RNN과 LSTM_수정중",
      "version": "0.3.2",
      "provenance": [],
      "include_colab_link": true
    },
    "kernelspec": {
      "name": "python3",
      "display_name": "Python 3"
    }
  },
  "cells": [
    {
      "cell_type": "markdown",
      "metadata": {
        "id": "view-in-github",
        "colab_type": "text"
      },
      "source": [
        "<a href=\"https://colab.research.google.com/github/sung-hyo/Major-keyword/blob/master/RNN%EA%B3%BC_LSTM_%EC%88%98%EC%A0%95%EC%A4%91.ipynb\" target=\"_parent\"><img src=\"https://colab.research.google.com/assets/colab-badge.svg\" alt=\"Open In Colab\"/></a>"
      ]
    },
    {
      "metadata": {
        "id": "EuaoMBvJ3zen",
        "colab_type": "text"
      },
      "cell_type": "markdown",
      "source": [
        "#RNN(순환 신경망, Recurrent Neural Network)\n",
        "---\n",
        "    MLP(다층퍼셉트론)과 유사하고 입력층, 출력층, 은닉층을 가지면, 다른점은 은닉층이 순환에지(recurrent edge)를 가진다는 점이다. \n",
        "    다시말해서 은닉층의 뉴런이 은닉층에서 활성화 함수를 통해 나온 결과값을 출력층으로도 보내면서, 다시 자기 자신의 다음 계산의 입력으로 보내는 특징을 말한다.(그림의 녹색부분의 화살표)\n",
        "    순환에지는 t-1 순간에 발생한 정보를 t순간으로 전달하는 역활을 한다. \n",
        "\n",
        "![RNN](http://i.imgur.com/Q8zv6TQ.png)\n",
        "\n",
        "\n",
        "#LSTM(Long Short Term Memory, or LSTMs(LSTM Networks))\n",
        "---\n",
        "    RNN은 관련있는 요소간의 갭(gap), 사이 거리가 멀 경우 역전파시 그래디언트가 점차 줄어 학습능력이 크게 저하되는 것으로 알려져 있다. 이를 그레이디언트 소멸(vanishing gradient problem) 이라고 합니다.\n",
        "    관련된 요소가 멀리 떨어진 상황을 장기문맥의존성 또는 장기의존성(long term dependency)라고 하며 RNN의 문제점으로 지적된다. \n",
        "    이러한 문제점을 개선하기 위한 방법으로 고안된 것이 LSTM이다. \n",
        "\n",
        "     RNN의 히든 state에 cell-state를 추가한 구조입니다\n",
        "     \n",
        "![RNNvsLSTM](https://i.imgur.com/jKodJ1u.png)\n",
        "\n",
        "forget gate는 ‘과거 정보를 잊기’를 위한 게이트입니다. \n",
        "\n",
        "input gate는 ‘현재 정보를 기억하기’ 위한 게이트입니다\n",
        "\n",
        "![lstm_sell_state](https://i.imgur.com/MPb3OvZ.png)\n",
        "\n"
      ]
    },
    {
      "metadata": {
        "id": "ROVznEiW4Mq4",
        "colab_type": "code",
        "colab": {}
      },
      "cell_type": "code",
      "source": [
        ""
      ],
      "execution_count": 0,
      "outputs": []
    }
  ]
}